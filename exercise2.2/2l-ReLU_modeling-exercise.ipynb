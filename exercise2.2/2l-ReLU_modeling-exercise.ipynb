{
 "cells": [
  {
   "cell_type": "markdown",
   "metadata": {},
   "source": [
    "# 准备"
   ]
  },
  {
   "cell_type": "code",
   "execution_count": 10,
   "metadata": {},
   "outputs": [
    {
     "name": "stdout",
     "output_type": "stream",
     "text": [
      "Collecting tqdm\n",
      "  Using cached tqdm-4.67.1-py3-none-any.whl.metadata (57 kB)\n",
      "Requirement already satisfied: colorama in c:\\users\\asus\\appdata\\roaming\\python\\python311\\site-packages (from tqdm) (0.4.6)\n",
      "Using cached tqdm-4.67.1-py3-none-any.whl (78 kB)\n",
      "Installing collected packages: tqdm\n",
      "Successfully installed tqdm-4.67.1\n",
      "Note: you may need to restart the kernel to use updated packages.\n"
     ]
    },
    {
     "name": "stderr",
     "output_type": "stream",
     "text": [
      "\n",
      "[notice] A new release of pip is available: 24.2 -> 25.0.1\n",
      "[notice] To update, run: python.exe -m pip install --upgrade pip\n"
     ]
    }
   ],
   "source": [
    "import numpy as np\n",
    "from sklearn.model_selection import train_test_split\n",
    "import matplotlib.pyplot as plt\n",
    "%pip install tqdm\n",
    "from tqdm import tqdm\n",
    "import math"
   ]
  },
  {
   "cell_type": "markdown",
   "metadata": {},
   "source": [
    "## 目标函数"
   ]
  },
  {
   "cell_type": "code",
   "execution_count": null,
   "metadata": {},
   "outputs": [
    {
     "data": {
      "text/plain": [
       "<matplotlib.legend.Legend at 0x23721e8bc50>"
      ]
     },
     "execution_count": 75,
     "metadata": {},
     "output_type": "execute_result"
    },
    {
     "data": {
      "image/png": "[encoded data removed]",
      "text/plain": [
       "<Figure size 640x480 with 1 Axes>"
      ]
     },
     "metadata": {},
     "output_type": "display_data"
    }
   ],
   "source": [
    "def targetFunc(x):\n",
    "    return np.exp(x) #目标函数为指数函数\n",
    "\n",
    "x = np.arange(0, 4 * np.pi, 0.01)\n",
    "plt.plot(x, [targetFunc(i) for i in x])\n",
    "plt.legend([\"exp(x)\"])"
   ]
  },
  {
   "cell_type": "markdown",
   "metadata": {},
   "source": [
    "## 数据采集"
   ]
  },
  {
   "cell_type": "code",
   "execution_count": null,
   "metadata": {},
   "outputs": [],
   "source": [
    "x = np.arange(0, 2*np.pi, 0.0005) # 采集数据的步长\n",
    "y = [targetFunc(i) for i in x]\n",
    "\n",
    "X_train, X_test, y_train, y_test = train_test_split(x, y, test_size=0.2, random_state=1) # 20%测试集，80%训练集\n",
    "X_train, X_val, y_train, y_val = train_test_split(X_train, y_train, test_size=0.125, random_state=1) # 10%验证集，训练集更新为70%"
   ]
  },
  {
   "cell_type": "markdown",
   "metadata": {},
   "source": [
    "## 模型"
   ]
  },
  {
   "cell_type": "code",
   "execution_count": null,
   "metadata": {},
   "outputs": [],
   "source": [
    "input_dim = 1 # 输入层\n",
    "hidden_dim = 64 # 隐含层64个神经元\n",
    "output_dim = 1 #输出层\n",
    "\n",
    "W1 = np.random.randn(hidden_dim, input_dim) * np.sqrt(1 / input_dim) # 输入层到隐藏层的权重\n",
    "W2 = np.random.randn(output_dim, hidden_dim) * np.sqrt(1 / hidden_dim) # 隐藏层到输出层的权重\n",
    "b1 = np.zeros((hidden_dim, 1)) # 隐藏层的偏置\n",
    "b2 = np.zeros((output_dim, 1)) # 输出层的偏置\n",
    "\n",
    "cache = {}\n",
    "\n",
    "def relu(X):\n",
    "    return np.where(X > 0, X, 0) # ReLU函数\n",
    "\n",
    "\n",
    "def forward(x):\n",
    "    cache['out0'] = x\n",
    "    x = np.matmul(W1, x) + b1 # 前向传播，线性计算\n",
    "    cache['out1'] = x\n",
    "    x = relu(x)\n",
    "    cache['out2'] = x\n",
    "    output = np.matmul(W2, x) + b2 # 前向传播，线性计算\n",
    "    cache['out3'] = output\n",
    "    return output\n",
    "\n",
    "\n",
    "def loss_fn(y_pred, target):\n",
    "    loss = np.sum((y_pred - target) * (y_pred - target), axis=1, keepdims=True) / len(y_pred)\n",
    "    cache['loss'] = (y_pred - target) / len(y_pred)\n",
    "    return loss # 使用均方误差（MSE）作为损失函数\n",
    "\n",
    "\n",
    "def backward(lr, batch_size):\n",
    "    global W1, W2, b1, b2\n",
    "    \n",
    "    # 计算输出层、隐含层的梯度\n",
    "    delta2 = 1 / batch_size * cache['loss']\n",
    "    dW2 = 1 / batch_size * np.matmul(delta2, cache['out2'].T)\n",
    "    db2 = 1 / batch_size * np.sum(delta2, axis=1, keepdims=True)\n",
    "\n",
    "    delta1 = np.matmul(W2.T, delta2) * np.where(cache['out1'] > 0, 1, 0)\n",
    "    dW1 = 1 / batch_size * np.matmul(delta1, cache['out0'].T)\n",
    "    db1 = 1 / batch_size * np.sum(delta1, axis=1, keepdims=True)\n",
    "\n",
    "    # 参数更新\n",
    "    W1 -= lr * dW1\n",
    "    W2 -= lr * dW2\n",
    "    b1 -= lr * db1\n",
    "    b2 -= lr * db2"
   ]
  },
  {
   "cell_type": "markdown",
   "metadata": {},
   "source": [
    "## 训练"
   ]
  },
  {
   "cell_type": "code",
   "execution_count": 73,
   "metadata": {},
   "outputs": [],
   "source": [
    "def predict(ranger):\n",
    "    x_plot = []\n",
    "    y_pred = []\n",
    "    for i in np.arange(ranger[0], ranger[1], 0.1):\n",
    "        x = np.matmul(W1, np.array([[i]])) + b1\n",
    "        x = relu(x)\n",
    "        output = np.matmul(W2, x) + b2\n",
    "        x_plot.append(i)\n",
    "        y_pred.extend(output)\n",
    "\n",
    "    plt.plot(x_plot, [targetFunc(i) for i in x_plot])\n",
    "    plt.plot(x_plot, y_pred)\n",
    "    plt.legend([\"Ground truth\", \"Prediction\"])\n",
    "\n",
    "\n",
    "def train(X, y, epochs=5, batch_size=10, lr=0.001, verbose_ep=100):\n",
    "    for epoch in tqdm(range(epochs)):\n",
    "        rec_loss = 0\n",
    "        for batch_idx in range(len(X) // batch_size):\n",
    "            X_batched = np.array([X[batch_idx * batch_size: min((batch_idx + 1) * batch_size, len(X))]])\n",
    "            y_batched = np.array([y[batch_idx * batch_size: min((batch_idx + 1) * batch_size, len(X))]])\n",
    "            y_pred = forward(X_batched)\n",
    "            loss = np.sum(loss_fn(y_pred,np.array(y_batched))) / len(y_pred)\n",
    "            rec_loss += loss\n",
    "            backward(lr, batch_size)\n",
    "        if epoch % verbose_ep == 0:\n",
    "            print(f\"Epoch:{epoch}, Loss:{rec_loss / (len(X) // batch_size)}\")"
   ]
  },
  {
   "cell_type": "code",
   "execution_count": 74,
   "metadata": {},
   "outputs": [
    {
     "name": "stderr",
     "output_type": "stream",
     "text": [
      "  0%|          | 7/5000 [00:00<01:19, 62.88it/s]"
     ]
    },
    {
     "name": "stdout",
     "output_type": "stream",
     "text": [
      "Epoch:0, Loss:207609.6359507\n"
     ]
    },
    {
     "name": "stderr",
     "output_type": "stream",
     "text": [
      " 20%|██        | 1015/5000 [00:13<00:50, 78.95it/s]"
     ]
    },
    {
     "name": "stdout",
     "output_type": "stream",
     "text": [
      "Epoch:1000, Loss:27.53269914611451\n"
     ]
    },
    {
     "name": "stderr",
     "output_type": "stream",
     "text": [
      " 40%|████      | 2009/5000 [00:26<00:39, 76.46it/s]"
     ]
    },
    {
     "name": "stdout",
     "output_type": "stream",
     "text": [
      "Epoch:2000, Loss:16.25327731568579\n"
     ]
    },
    {
     "name": "stderr",
     "output_type": "stream",
     "text": [
      " 60%|██████    | 3007/5000 [00:41<00:37, 52.66it/s]"
     ]
    },
    {
     "name": "stdout",
     "output_type": "stream",
     "text": [
      "Epoch:3000, Loss:14.709190070864897\n"
     ]
    },
    {
     "name": "stderr",
     "output_type": "stream",
     "text": [
      " 80%|████████  | 4005/5000 [00:59<00:19, 51.73it/s]"
     ]
    },
    {
     "name": "stdout",
     "output_type": "stream",
     "text": [
      "Epoch:4000, Loss:11.575854345801009\n"
     ]
    },
    {
     "name": "stderr",
     "output_type": "stream",
     "text": [
      "100%|██████████| 5000/5000 [01:17<00:00, 64.28it/s]\n"
     ]
    },
    {
     "data": {
      "image/png": "[encoded data removed]",
      "text/plain": [
       "<Figure size 640x480 with 1 Axes>"
      ]
     },
     "metadata": {},
     "output_type": "display_data"
    }
   ],
   "source": [
    "train(X_train, y_train, epochs=5000, batch_size=32, lr=0.01, verbose_ep=1000)\n",
    "predict([0, 2 * np.pi])"
   ]
  }
 ],
 "metadata": {
  "kernelspec": {
   "display_name": "Python 3",
   "language": "python",
   "name": "python3"
  },
  "language_info": {
   "codemirror_mode": {
    "name": "ipython",
    "version": 3
   },
   "file_extension": ".py",
   "mimetype": "text/x-python",
   "name": "python",
   "nbconvert_exporter": "python",
   "pygments_lexer": "ipython3",
   "version": "3.11.5"
  }
 },
 "nbformat": 4,
 "nbformat_minor": 2
}
